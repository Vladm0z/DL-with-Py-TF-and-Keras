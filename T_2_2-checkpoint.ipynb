{
 "cells": [
  {
   "cell_type": "code",
   "execution_count": 49,
   "id": "b77bf360",
   "metadata": {},
   "outputs": [],
   "source": [
    "import numpy as np\n",
    "import os\n",
    "import cv2\n",
    "from tqdm import tqdm"
   ]
  },
  {
   "cell_type": "code",
   "execution_count": 50,
   "id": "8c4cb2bf",
   "metadata": {},
   "outputs": [],
   "source": [
    "Data = 'C:\\\\Users\\\\vlad2\\\\OneDrive\\\\Desktop\\\\PyProgNet\\\\DL with Py, TF, and Keras\\\\Datasets\\\\kagglecatsanddogs_3367a\\\\PetImages'\n",
    "\n",
    "Categories = [\"Dog\", \"Cat\"]"
   ]
  },
  {
   "cell_type": "code",
   "execution_count": 54,
   "id": "f2c6d808",
   "metadata": {},
   "outputs": [
    {
     "name": "stderr",
     "output_type": "stream",
     "text": [
      "100%|██████████| 12501/12501 [00:11<00:00, 1091.37it/s]\n",
      "100%|██████████| 12501/12501 [00:10<00:00, 1157.38it/s]\n"
     ]
    }
   ],
   "source": [
    "# Make all the image as same size\n",
    "img_size = 50\n",
    "\n",
    "#Empty list for store dataset\n",
    "training_data = []\n",
    "\n",
    "def create_training_data():\n",
    "    for category in Categories: # Iterate throw each folder\n",
    "        path = os.path.join(Data,category)\n",
    "        class_num = Categories.index(category)\n",
    "        \n",
    "        for img in tqdm(os.listdir(path)): #iterate thow each image and changing image into grayscale and set as 0 or 1\n",
    "            try:\n",
    "                img_array = cv2.imread(os.path.join(path,img), cv2.IMREAD_GRAYSCALE)\n",
    "                resize_array = cv2.resize(img_array , (img_size,img_size))\n",
    "                training_data.append([resize_array, class_num])\n",
    "            except Exception as e:\n",
    "                pass\n",
    "\n",
    "\n",
    "create_training_data()"
   ]
  },
  {
   "cell_type": "code",
   "execution_count": 55,
   "id": "1dd494ec",
   "metadata": {},
   "outputs": [],
   "source": [
    "import random\n",
    "\n",
    "random.shuffle(training_data) # shuffling the training _data"
   ]
  },
  {
   "cell_type": "code",
   "execution_count": 56,
   "id": "9c828261",
   "metadata": {
    "scrolled": false
   },
   "outputs": [],
   "source": [
    "X = []\n",
    "y = []\n",
    "\n",
    "for features,label in training_data:\n",
    "    X.append(features)\n",
    "    y.append(label)\n",
    "    \n",
    "X = np.array(X).reshape(-1, img_size, img_size, 1)"
   ]
  },
  {
   "cell_type": "code",
   "execution_count": 57,
   "id": "ff775f0c",
   "metadata": {},
   "outputs": [],
   "source": [
    "import pickle # saving data set as pickle file so we can load it into the model\n",
    "\n",
    "pickle_out = open(\"X.pickle\",\"wb\")\n",
    "pickle.dump(X, pickle_out)\n",
    "pickle_out.close()\n",
    "\n",
    "pickle_out = open(\"y.pickle\",\"wb\")\n",
    "pickle.dump(y, pickle_out)\n",
    "pickle_out.close()"
   ]
  },
  {
   "cell_type": "code",
   "execution_count": null,
   "id": "a8c9e3bb",
   "metadata": {},
   "outputs": [],
   "source": []
  }
 ],
 "metadata": {
  "kernelspec": {
   "display_name": "Python 3",
   "language": "python",
   "name": "python3"
  },
  "language_info": {
   "codemirror_mode": {
    "name": "ipython",
    "version": 3
   },
   "file_extension": ".py",
   "mimetype": "text/x-python",
   "name": "python",
   "nbconvert_exporter": "python",
   "pygments_lexer": "ipython3",
   "version": "3.9.6"
  }
 },
 "nbformat": 4,
 "nbformat_minor": 5
}
